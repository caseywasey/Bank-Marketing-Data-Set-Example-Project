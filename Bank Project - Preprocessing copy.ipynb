{
 "metadata": {
  "language_info": {
   "codemirror_mode": {
    "name": "ipython",
    "version": 3
   },
   "file_extension": ".py",
   "mimetype": "text/x-python",
   "name": "python",
   "nbconvert_exporter": "python",
   "pygments_lexer": "ipython3",
   "version": "3.7.3-final"
  },
  "orig_nbformat": 2,
  "kernelspec": {
   "name": "python3",
   "display_name": "Python 3"
  }
 },
 "nbformat": 4,
 "nbformat_minor": 2,
 "cells": [
  {
   "source": [
    "# Bank Project - Resampling"
   ],
   "cell_type": "markdown",
   "metadata": {}
  },
  {
   "cell_type": "code",
   "execution_count": 18,
   "metadata": {},
   "outputs": [],
   "source": [
    "import os\n",
    "import pandas as pd\n",
    "import numpy as np\n",
    "import seaborn as sns\n",
    "import matplotlib.pyplot as plt \n",
    "from sklearn.base import BaseEstimator, TransformerMixin\n",
    "from sklearn.preprocessing import OneHotEncoder, StandardScaler\n",
    "from sklearn.impute import SimpleImputer\n",
    "from sklearn.pipeline import FeatureUnion, Pipeline\n",
    "import preprocessing as prep\n",
    "from sklearn.utils import resample"
   ]
  },
  {
   "source": [
    "## Fetch Data"
   ],
   "cell_type": "markdown",
   "metadata": {}
  },
  {
   "cell_type": "code",
   "execution_count": 19,
   "metadata": {},
   "outputs": [],
   "source": [
    "df = pd.read_csv('./data/bank-full.csv', sep=';')"
   ]
  },
  {
   "cell_type": "code",
   "execution_count": 49,
   "metadata": {},
   "outputs": [],
   "source": [
    "from sklearn.compose import ColumnTransformer\n",
    "\n",
    "ct = ColumnTransformer(\n",
    "    [(\"target\",prep.TargetTransformer(),'y')])\n",
    "\n",
    "y_trans = pd.DataFrame(data = ct.fit_transform(df),columns=['y_trans'] ,index = df.index)"
   ]
  },
  {
   "cell_type": "code",
   "execution_count": 35,
   "metadata": {},
   "outputs": [],
   "source": [
    "df_t = pd.concat([y_trans,df],axis=1).drop(['y'],axis=1)"
   ]
  },
  {
   "cell_type": "code",
   "execution_count": 47,
   "metadata": {},
   "outputs": [
    {
     "output_type": "execute_result",
     "data": {
      "text/plain": [
       "       y_trans  age            job   marital  education default  balance  \\\n",
       "0            0   58     management   married   tertiary      no     2143   \n",
       "1            0   44     technician    single  secondary      no       29   \n",
       "2            0   33   entrepreneur   married  secondary      no        2   \n",
       "3            0   47    blue-collar   married    unknown      no     1506   \n",
       "4            0   33        unknown    single    unknown      no        1   \n",
       "...        ...  ...            ...       ...        ...     ...      ...   \n",
       "44786        1   68        retired  divorced    primary      no     2027   \n",
       "44173        1   86        retired   married    primary      no     1255   \n",
       "26018        1   43  self-employed  divorced  secondary      no      347   \n",
       "18015        1   55     management   married   tertiary      no     -375   \n",
       "43376        1   28         admin.    single   tertiary      no      832   \n",
       "\n",
       "      housing loan    contact  day month  duration  campaign  pdays  previous  \\\n",
       "0         yes   no    unknown    5   may       261         1     -1         0   \n",
       "1         yes   no    unknown    5   may       151         1     -1         0   \n",
       "2         yes  yes    unknown    5   may        76         1     -1         0   \n",
       "3         yes   no    unknown    5   may        92         1     -1         0   \n",
       "4          no   no    unknown    5   may       198         1     -1         0   \n",
       "...       ...  ...        ...  ...   ...       ...       ...    ...       ...   \n",
       "44786      no   no   cellular   14   sep       404         2     91         4   \n",
       "44173      no   no  telephone   14   jul       247         1    180         3   \n",
       "26018      no   no   cellular   19   nov      1468         3     -1         0   \n",
       "18015      no   no   cellular   30   jul       814         2     -1         0   \n",
       "43376      no   no  telephone   29   mar       433         3    342         1   \n",
       "\n",
       "      poutcome  \n",
       "0      unknown  \n",
       "1      unknown  \n",
       "2      unknown  \n",
       "3      unknown  \n",
       "4      unknown  \n",
       "...        ...  \n",
       "44786  success  \n",
       "44173  success  \n",
       "26018  unknown  \n",
       "18015  unknown  \n",
       "43376  failure  \n",
       "\n",
       "[45211 rows x 17 columns]"
      ],
      "text/html": "<div>\n<style scoped>\n    .dataframe tbody tr th:only-of-type {\n        vertical-align: middle;\n    }\n\n    .dataframe tbody tr th {\n        vertical-align: top;\n    }\n\n    .dataframe thead th {\n        text-align: right;\n    }\n</style>\n<table border=\"1\" class=\"dataframe\">\n  <thead>\n    <tr style=\"text-align: right;\">\n      <th></th>\n      <th>y_trans</th>\n      <th>age</th>\n      <th>job</th>\n      <th>marital</th>\n      <th>education</th>\n      <th>default</th>\n      <th>balance</th>\n      <th>housing</th>\n      <th>loan</th>\n      <th>contact</th>\n      <th>day</th>\n      <th>month</th>\n      <th>duration</th>\n      <th>campaign</th>\n      <th>pdays</th>\n      <th>previous</th>\n      <th>poutcome</th>\n    </tr>\n  </thead>\n  <tbody>\n    <tr>\n      <th>0</th>\n      <td>0</td>\n      <td>58</td>\n      <td>management</td>\n      <td>married</td>\n      <td>tertiary</td>\n      <td>no</td>\n      <td>2143</td>\n      <td>yes</td>\n      <td>no</td>\n      <td>unknown</td>\n      <td>5</td>\n      <td>may</td>\n      <td>261</td>\n      <td>1</td>\n      <td>-1</td>\n      <td>0</td>\n      <td>unknown</td>\n    </tr>\n    <tr>\n      <th>1</th>\n      <td>0</td>\n      <td>44</td>\n      <td>technician</td>\n      <td>single</td>\n      <td>secondary</td>\n      <td>no</td>\n      <td>29</td>\n      <td>yes</td>\n      <td>no</td>\n      <td>unknown</td>\n      <td>5</td>\n      <td>may</td>\n      <td>151</td>\n      <td>1</td>\n      <td>-1</td>\n      <td>0</td>\n      <td>unknown</td>\n    </tr>\n    <tr>\n      <th>2</th>\n      <td>0</td>\n      <td>33</td>\n      <td>entrepreneur</td>\n      <td>married</td>\n      <td>secondary</td>\n      <td>no</td>\n      <td>2</td>\n      <td>yes</td>\n      <td>yes</td>\n      <td>unknown</td>\n      <td>5</td>\n      <td>may</td>\n      <td>76</td>\n      <td>1</td>\n      <td>-1</td>\n      <td>0</td>\n      <td>unknown</td>\n    </tr>\n    <tr>\n      <th>3</th>\n      <td>0</td>\n      <td>47</td>\n      <td>blue-collar</td>\n      <td>married</td>\n      <td>unknown</td>\n      <td>no</td>\n      <td>1506</td>\n      <td>yes</td>\n      <td>no</td>\n      <td>unknown</td>\n      <td>5</td>\n      <td>may</td>\n      <td>92</td>\n      <td>1</td>\n      <td>-1</td>\n      <td>0</td>\n      <td>unknown</td>\n    </tr>\n    <tr>\n      <th>4</th>\n      <td>0</td>\n      <td>33</td>\n      <td>unknown</td>\n      <td>single</td>\n      <td>unknown</td>\n      <td>no</td>\n      <td>1</td>\n      <td>no</td>\n      <td>no</td>\n      <td>unknown</td>\n      <td>5</td>\n      <td>may</td>\n      <td>198</td>\n      <td>1</td>\n      <td>-1</td>\n      <td>0</td>\n      <td>unknown</td>\n    </tr>\n    <tr>\n      <th>...</th>\n      <td>...</td>\n      <td>...</td>\n      <td>...</td>\n      <td>...</td>\n      <td>...</td>\n      <td>...</td>\n      <td>...</td>\n      <td>...</td>\n      <td>...</td>\n      <td>...</td>\n      <td>...</td>\n      <td>...</td>\n      <td>...</td>\n      <td>...</td>\n      <td>...</td>\n      <td>...</td>\n      <td>...</td>\n    </tr>\n    <tr>\n      <th>44786</th>\n      <td>1</td>\n      <td>68</td>\n      <td>retired</td>\n      <td>divorced</td>\n      <td>primary</td>\n      <td>no</td>\n      <td>2027</td>\n      <td>no</td>\n      <td>no</td>\n      <td>cellular</td>\n      <td>14</td>\n      <td>sep</td>\n      <td>404</td>\n      <td>2</td>\n      <td>91</td>\n      <td>4</td>\n      <td>success</td>\n    </tr>\n    <tr>\n      <th>44173</th>\n      <td>1</td>\n      <td>86</td>\n      <td>retired</td>\n      <td>married</td>\n      <td>primary</td>\n      <td>no</td>\n      <td>1255</td>\n      <td>no</td>\n      <td>no</td>\n      <td>telephone</td>\n      <td>14</td>\n      <td>jul</td>\n      <td>247</td>\n      <td>1</td>\n      <td>180</td>\n      <td>3</td>\n      <td>success</td>\n    </tr>\n    <tr>\n      <th>26018</th>\n      <td>1</td>\n      <td>43</td>\n      <td>self-employed</td>\n      <td>divorced</td>\n      <td>secondary</td>\n      <td>no</td>\n      <td>347</td>\n      <td>no</td>\n      <td>no</td>\n      <td>cellular</td>\n      <td>19</td>\n      <td>nov</td>\n      <td>1468</td>\n      <td>3</td>\n      <td>-1</td>\n      <td>0</td>\n      <td>unknown</td>\n    </tr>\n    <tr>\n      <th>18015</th>\n      <td>1</td>\n      <td>55</td>\n      <td>management</td>\n      <td>married</td>\n      <td>tertiary</td>\n      <td>no</td>\n      <td>-375</td>\n      <td>no</td>\n      <td>no</td>\n      <td>cellular</td>\n      <td>30</td>\n      <td>jul</td>\n      <td>814</td>\n      <td>2</td>\n      <td>-1</td>\n      <td>0</td>\n      <td>unknown</td>\n    </tr>\n    <tr>\n      <th>43376</th>\n      <td>1</td>\n      <td>28</td>\n      <td>admin.</td>\n      <td>single</td>\n      <td>tertiary</td>\n      <td>no</td>\n      <td>832</td>\n      <td>no</td>\n      <td>no</td>\n      <td>telephone</td>\n      <td>29</td>\n      <td>mar</td>\n      <td>433</td>\n      <td>3</td>\n      <td>342</td>\n      <td>1</td>\n      <td>failure</td>\n    </tr>\n  </tbody>\n</table>\n<p>45211 rows × 17 columns</p>\n</div>"
     },
     "metadata": {},
     "execution_count": 47
    }
   ],
   "source": [
    "# Upsample minority classPython\n",
    "\n",
    "# Separate majority and minority classes\n",
    "df_majority = df_t[df_t.y_trans==0]\n",
    "df_minority = df_t[df_t.y_trans==1]\n",
    "\n",
    "# Upsample minority class\n",
    "df_minority_upsampled = resample(df_minority, \n",
    "                                 replace=True,     # sample with replacement\n",
    "                                 n_samples=5289,    # to match majority class\n",
    "                                 random_state=101) # reproducible results\n",
    " \n",
    "# Combine majority class with upsampled minority class\n",
    "df_upsampled = pd.concat([df_majority, df_minority_upsampled])\n",
    " \n",
    "# Display new class counts\n",
    "df_upsampled"
   ]
  },
  {
   "cell_type": "code",
   "execution_count": 48,
   "metadata": {},
   "outputs": [
    {
     "output_type": "execute_result",
     "data": {
      "text/plain": [
       "       y_trans  age            job  marital  education default  balance  \\\n",
       "83           1   59         admin.  married  secondary      no     2343   \n",
       "86           1   56         admin.  married  secondary      no       45   \n",
       "87           1   41     technician  married  secondary      no     1270   \n",
       "129          1   55       services  married  secondary      no     2476   \n",
       "168          1   54         admin.  married   tertiary      no      184   \n",
       "...        ...  ...            ...      ...        ...     ...      ...   \n",
       "25304        0   40     technician  married  secondary      no     7313   \n",
       "30294        0   27     unemployed   single  secondary      no       11   \n",
       "39379        0   38  self-employed  married  secondary      no     8094   \n",
       "8794         0   24    blue-collar   single  secondary      no      476   \n",
       "28351        0   35         admin.  married   tertiary      no     -272   \n",
       "\n",
       "      housing loan   contact  day month  duration  campaign  pdays  previous  \\\n",
       "83        yes   no   unknown    5   may      1042         1     -1         0   \n",
       "86         no   no   unknown    5   may      1467         1     -1         0   \n",
       "87        yes   no   unknown    5   may      1389         1     -1         0   \n",
       "129       yes   no   unknown    5   may       579         1     -1         0   \n",
       "168        no   no   unknown    5   may       673         2     -1         0   \n",
       "...       ...  ...       ...  ...   ...       ...       ...    ...       ...   \n",
       "25304     yes   no  cellular   18   nov       241         2    182         1   \n",
       "30294      no   no  cellular    5   feb       257         1     -1         0   \n",
       "39379      no   no  cellular   22   may        94         7     -1         0   \n",
       "8794      yes   no   unknown    4   jun       161         1     -1         0   \n",
       "28351      no  yes  cellular   29   jan       309         1    197        13   \n",
       "\n",
       "      poutcome  \n",
       "83     unknown  \n",
       "86     unknown  \n",
       "87     unknown  \n",
       "129    unknown  \n",
       "168    unknown  \n",
       "...        ...  \n",
       "25304  failure  \n",
       "30294  unknown  \n",
       "39379  unknown  \n",
       "8794   unknown  \n",
       "28351    other  \n",
       "\n",
       "[10578 rows x 17 columns]"
      ],
      "text/html": "<div>\n<style scoped>\n    .dataframe tbody tr th:only-of-type {\n        vertical-align: middle;\n    }\n\n    .dataframe tbody tr th {\n        vertical-align: top;\n    }\n\n    .dataframe thead th {\n        text-align: right;\n    }\n</style>\n<table border=\"1\" class=\"dataframe\">\n  <thead>\n    <tr style=\"text-align: right;\">\n      <th></th>\n      <th>y_trans</th>\n      <th>age</th>\n      <th>job</th>\n      <th>marital</th>\n      <th>education</th>\n      <th>default</th>\n      <th>balance</th>\n      <th>housing</th>\n      <th>loan</th>\n      <th>contact</th>\n      <th>day</th>\n      <th>month</th>\n      <th>duration</th>\n      <th>campaign</th>\n      <th>pdays</th>\n      <th>previous</th>\n      <th>poutcome</th>\n    </tr>\n  </thead>\n  <tbody>\n    <tr>\n      <th>83</th>\n      <td>1</td>\n      <td>59</td>\n      <td>admin.</td>\n      <td>married</td>\n      <td>secondary</td>\n      <td>no</td>\n      <td>2343</td>\n      <td>yes</td>\n      <td>no</td>\n      <td>unknown</td>\n      <td>5</td>\n      <td>may</td>\n      <td>1042</td>\n      <td>1</td>\n      <td>-1</td>\n      <td>0</td>\n      <td>unknown</td>\n    </tr>\n    <tr>\n      <th>86</th>\n      <td>1</td>\n      <td>56</td>\n      <td>admin.</td>\n      <td>married</td>\n      <td>secondary</td>\n      <td>no</td>\n      <td>45</td>\n      <td>no</td>\n      <td>no</td>\n      <td>unknown</td>\n      <td>5</td>\n      <td>may</td>\n      <td>1467</td>\n      <td>1</td>\n      <td>-1</td>\n      <td>0</td>\n      <td>unknown</td>\n    </tr>\n    <tr>\n      <th>87</th>\n      <td>1</td>\n      <td>41</td>\n      <td>technician</td>\n      <td>married</td>\n      <td>secondary</td>\n      <td>no</td>\n      <td>1270</td>\n      <td>yes</td>\n      <td>no</td>\n      <td>unknown</td>\n      <td>5</td>\n      <td>may</td>\n      <td>1389</td>\n      <td>1</td>\n      <td>-1</td>\n      <td>0</td>\n      <td>unknown</td>\n    </tr>\n    <tr>\n      <th>129</th>\n      <td>1</td>\n      <td>55</td>\n      <td>services</td>\n      <td>married</td>\n      <td>secondary</td>\n      <td>no</td>\n      <td>2476</td>\n      <td>yes</td>\n      <td>no</td>\n      <td>unknown</td>\n      <td>5</td>\n      <td>may</td>\n      <td>579</td>\n      <td>1</td>\n      <td>-1</td>\n      <td>0</td>\n      <td>unknown</td>\n    </tr>\n    <tr>\n      <th>168</th>\n      <td>1</td>\n      <td>54</td>\n      <td>admin.</td>\n      <td>married</td>\n      <td>tertiary</td>\n      <td>no</td>\n      <td>184</td>\n      <td>no</td>\n      <td>no</td>\n      <td>unknown</td>\n      <td>5</td>\n      <td>may</td>\n      <td>673</td>\n      <td>2</td>\n      <td>-1</td>\n      <td>0</td>\n      <td>unknown</td>\n    </tr>\n    <tr>\n      <th>...</th>\n      <td>...</td>\n      <td>...</td>\n      <td>...</td>\n      <td>...</td>\n      <td>...</td>\n      <td>...</td>\n      <td>...</td>\n      <td>...</td>\n      <td>...</td>\n      <td>...</td>\n      <td>...</td>\n      <td>...</td>\n      <td>...</td>\n      <td>...</td>\n      <td>...</td>\n      <td>...</td>\n      <td>...</td>\n    </tr>\n    <tr>\n      <th>25304</th>\n      <td>0</td>\n      <td>40</td>\n      <td>technician</td>\n      <td>married</td>\n      <td>secondary</td>\n      <td>no</td>\n      <td>7313</td>\n      <td>yes</td>\n      <td>no</td>\n      <td>cellular</td>\n      <td>18</td>\n      <td>nov</td>\n      <td>241</td>\n      <td>2</td>\n      <td>182</td>\n      <td>1</td>\n      <td>failure</td>\n    </tr>\n    <tr>\n      <th>30294</th>\n      <td>0</td>\n      <td>27</td>\n      <td>unemployed</td>\n      <td>single</td>\n      <td>secondary</td>\n      <td>no</td>\n      <td>11</td>\n      <td>no</td>\n      <td>no</td>\n      <td>cellular</td>\n      <td>5</td>\n      <td>feb</td>\n      <td>257</td>\n      <td>1</td>\n      <td>-1</td>\n      <td>0</td>\n      <td>unknown</td>\n    </tr>\n    <tr>\n      <th>39379</th>\n      <td>0</td>\n      <td>38</td>\n      <td>self-employed</td>\n      <td>married</td>\n      <td>secondary</td>\n      <td>no</td>\n      <td>8094</td>\n      <td>no</td>\n      <td>no</td>\n      <td>cellular</td>\n      <td>22</td>\n      <td>may</td>\n      <td>94</td>\n      <td>7</td>\n      <td>-1</td>\n      <td>0</td>\n      <td>unknown</td>\n    </tr>\n    <tr>\n      <th>8794</th>\n      <td>0</td>\n      <td>24</td>\n      <td>blue-collar</td>\n      <td>single</td>\n      <td>secondary</td>\n      <td>no</td>\n      <td>476</td>\n      <td>yes</td>\n      <td>no</td>\n      <td>unknown</td>\n      <td>4</td>\n      <td>jun</td>\n      <td>161</td>\n      <td>1</td>\n      <td>-1</td>\n      <td>0</td>\n      <td>unknown</td>\n    </tr>\n    <tr>\n      <th>28351</th>\n      <td>0</td>\n      <td>35</td>\n      <td>admin.</td>\n      <td>married</td>\n      <td>tertiary</td>\n      <td>no</td>\n      <td>-272</td>\n      <td>no</td>\n      <td>yes</td>\n      <td>cellular</td>\n      <td>29</td>\n      <td>jan</td>\n      <td>309</td>\n      <td>1</td>\n      <td>197</td>\n      <td>13</td>\n      <td>other</td>\n    </tr>\n  </tbody>\n</table>\n<p>10578 rows × 17 columns</p>\n</div>"
     },
     "metadata": {},
     "execution_count": 48
    }
   ],
   "source": [
    "# Downsample majority class\n",
    "df_majority_downsampled = resample(df_majority, \n",
    "                                 replace=False,     # sample with replacement\n",
    "                                 n_samples=len(df_minority),    # to match majority class\n",
    "                                 random_state=101) # reproducible results\n",
    " \n",
    "# Combine majority class with upsampled minority class\n",
    "df_downsampled = pd.concat([df_minority, df_majority_downsampled])\n",
    " \n",
    "# Display new class counts\n",
    "df_downsampled"
   ]
  },
  {
   "cell_type": "code",
   "execution_count": null,
   "metadata": {},
   "outputs": [],
   "source": []
  }
 ]
}