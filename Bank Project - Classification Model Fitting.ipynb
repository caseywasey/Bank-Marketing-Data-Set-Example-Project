{
 "cells": [
  {
   "cell_type": "markdown",
   "metadata": {},
   "source": [
    "# Bank Project - Classification Model Fitting"
   ]
  },
  {
   "cell_type": "code",
   "execution_count": 1,
   "metadata": {},
   "outputs": [],
   "source": [
    "#!pip install imblearn"
   ]
  },
  {
   "cell_type": "code",
   "execution_count": 2,
   "metadata": {},
   "outputs": [],
   "source": [
    "import os\n",
    "import pandas as pd\n",
    "import numpy as np\n",
    "\n",
    "from sklearn.base import BaseEstimator, TransformerMixin\n",
    "from sklearn.preprocessing import OneHotEncoder, StandardScaler\n",
    "from sklearn.pipeline import FeatureUnion\n",
    "\n",
    "from sklearn.utils import resample\n",
    "from sklearn.model_selection import train_test_split, cross_val_score, RepeatedStratifiedKFold\n",
    "from sklearn.compose import ColumnTransformer\n",
    "from sklearn.model_selection import GridSearchCV\n",
    "\n",
    "import preprocessing as prep\n",
    "\n",
    "from matplotlib.pyplot import cm\n",
    "from itertools import cycle\n",
    "import seaborn as sns\n",
    "import matplotlib.pyplot as plt \n",
    "\n",
    "from sklearn.metrics import roc_curve, auc, roc_auc_score, precision_recall_fscore_support, precision_score, make_scorer\n",
    "prec_scorer = make_scorer(precision_score)\n",
    "\n",
    "from sklearn.ensemble import RandomForestClassifier\n",
    "from sklearn.tree import DecisionTreeClassifier\n",
    "from sklearn.linear_model import LogisticRegression\n",
    "from sklearn.naive_bayes import GaussianNB\n",
    "\n",
    "from imblearn.pipeline import Pipeline\n",
    "from imblearn.over_sampling import SMOTE"
   ]
  },
  {
   "cell_type": "markdown",
   "metadata": {},
   "source": [
    "## Fetch Data"
   ]
  },
  {
   "cell_type": "code",
   "execution_count": 3,
   "metadata": {},
   "outputs": [],
   "source": [
    "df = pd.read_csv('./data/bank-full.csv', sep=';')"
   ]
  },
  {
   "cell_type": "code",
   "execution_count": 4,
   "metadata": {},
   "outputs": [],
   "source": [
    "ct = ColumnTransformer(\n",
    "    [(\"target\",prep.TargetTransformer(),'y')])\n",
    "\n",
    "y_trans = pd.DataFrame(data = ct.fit_transform(df),columns=['y_trans'] ,index = df.index)\n",
    "\n",
    "df_t = pd.concat([y_trans,df],axis=1).drop(['y'],axis=1)"
   ]
  },
  {
   "cell_type": "code",
   "execution_count": 5,
   "metadata": {},
   "outputs": [],
   "source": [
    "train = df_t.sample(n=int(len(df_t)*0.75), random_state=101)\n",
    "test = df_t[~df_t.index.isin(train.index)]"
   ]
  },
  {
   "cell_type": "markdown",
   "metadata": {},
   "source": [
    "## Undersamping, Oversampling, & SMOTE Sampling"
   ]
  },
  {
   "cell_type": "code",
   "execution_count": 6,
   "metadata": {},
   "outputs": [],
   "source": [
    "# Upsample minority classPython\n",
    "\n",
    "# Separate majority and minority classes\n",
    "df_majority = train[train.y_trans==0]\n",
    "df_minority = train[train.y_trans==1]\n",
    "\n",
    "# Upsample minority class\n",
    "df_minority_upsampled = resample(df_minority, replace=True, n_samples=len(df_majority), random_state=1)\n",
    "\n",
    "# Combine majority class with upsampled minority class\n",
    "train_upsampled = pd.concat([df_majority, df_minority_upsampled])\n",
    "\n",
    "#\n",
    "X_train_upsampled = train_upsampled.drop(['y_trans'],axis=1)\n",
    "y_train_upsampled = train_upsampled.y_trans"
   ]
  },
  {
   "cell_type": "markdown",
   "metadata": {},
   "source": [
    "# SMOTE Sampling"
   ]
  },
  {
   "cell_type": "code",
   "execution_count": null,
   "metadata": {},
   "outputs": [],
   "source": [
    "# SMOTE\n",
    "\n",
    "sm = SMOTE(sampling_strategy = 0.25, random_state=101)\n",
    "\n",
    "cat_features = ['job','marital','education','default','housing','loan','contact','poutcome','month']\n",
    "\n",
    "ct = ColumnTransformer(\n",
    "    [\n",
    "    (\"logplus1\",prep.LogPlus1Transformer(),['duration','age']),\n",
    "    (\"campaign\",prep.CampaignTransformer(),'campaign'),\n",
    "    (\"balance\",prep.CampaignTransformer(),'balance'),\n",
    "    ('ohe',OneHotEncoder(sparse=False),cat_features)\n",
    "    ]\n",
    "    )\n",
    "\n",
    "X_smote, y_smote = sm.fit_resample(ct.fit_transform(train.drop(['y_trans'],axis=1)), train.y_trans)"
   ]
  },
  {
   "cell_type": "code",
   "execution_count": 10,
   "metadata": {},
   "outputs": [],
   "source": [
    "X_train, X_test, y_train, y_test = train.drop(['y_trans'],axis=1), test.drop(['y_trans'],axis=1), train.y_trans, test.y_trans"
   ]
  },
  {
   "cell_type": "markdown",
   "metadata": {},
   "source": [
    "# Benchmark Model"
   ]
  },
  {
   "cell_type": "code",
   "execution_count": 12,
   "metadata": {},
   "outputs": [
    {
     "data": {
      "text/plain": [
       "(array([0.93693335, 0.56951027]),\n",
       " array([0.94522063, 0.53249631]),\n",
       " array([0.94105874, 0.55038168]),\n",
       " array([9949, 1354], dtype=int64))"
      ]
     },
     "execution_count": 12,
     "metadata": {},
     "output_type": "execute_result"
    }
   ],
   "source": [
    "lreg_smote = LogisticRegression(max_iter=1000).fit(X_smote, y_smote)\n",
    "precision_recall_fscore_support(y_test, lreg_smote.predict(ct.transform(X_test)))"
   ]
  },
  {
   "cell_type": "markdown",
   "metadata": {},
   "source": [
    "# Random Forest Model"
   ]
  },
  {
   "cell_type": "code",
   "execution_count": 17,
   "metadata": {},
   "outputs": [
    {
     "data": {
      "text/plain": [
       "0.8692382553304433"
      ]
     },
     "execution_count": 17,
     "metadata": {},
     "output_type": "execute_result"
    }
   ],
   "source": [
    "rtree = RandomForestClassifier()\n",
    "\n",
    "params = {'n_estimators':[10,50,100],\n",
    "          'max_depth':[5,10,15,20],\n",
    "          'min_samples_leaf':[4,10,20],\n",
    "          'class_weight':['balanced']}\n",
    "\n",
    "rtree_clf = GridSearchCV(rtree, params)\n",
    "rtree_clf.fit(X_smote, y_smote)\n",
    "\n",
    "rtree_clf.score(ct.fit_transform(X_test), y_test)"
   ]
  },
  {
   "cell_type": "code",
   "execution_count": 19,
   "metadata": {},
   "outputs": [
    {
     "data": {
      "text/plain": [
       "(array([0.96385938, 0.47145488]),\n",
       " array([0.88461152, 0.7562777 ]),\n",
       " array([0.92253669, 0.58082813]),\n",
       " array([9949, 1354], dtype=int64))"
      ]
     },
     "execution_count": 19,
     "metadata": {},
     "output_type": "execute_result"
    }
   ],
   "source": [
    "precision_recall_fscore_support(y_test, rtree_clf.best_estimator_.predict(ct.transform(X_test)))"
   ]
  },
  {
   "cell_type": "markdown",
   "metadata": {},
   "source": [
    "# Support Vector Machine Model"
   ]
  },
  {
   "cell_type": "code",
   "execution_count": 20,
   "metadata": {},
   "outputs": [
    {
     "data": {
      "text/plain": [
       "0.8270370698044767"
      ]
     },
     "execution_count": 20,
     "metadata": {},
     "output_type": "execute_result"
    }
   ],
   "source": [
    "from sklearn.svm import SVC\n",
    "\n",
    "model = SVC(gamma='scale', class_weight='balanced')\n",
    "\n",
    "model.fit(X_smote, y_smote)\n",
    "\n",
    "model.score(ct.fit_transform(X_test), y_test)"
   ]
  },
  {
   "cell_type": "code",
   "execution_count": 21,
   "metadata": {},
   "outputs": [
    {
     "data": {
      "text/plain": [
       "(array([0.97879732, 0.39830795]),\n",
       " array([0.82128857, 0.86927622]),\n",
       " array([0.89315188, 0.54629845]),\n",
       " array([9949, 1354], dtype=int64))"
      ]
     },
     "execution_count": 21,
     "metadata": {},
     "output_type": "execute_result"
    }
   ],
   "source": [
    "precision_recall_fscore_support(y_test, model.predict(ct.transform(X_test)))"
   ]
  },
  {
   "cell_type": "code",
   "execution_count": 24,
   "metadata": {},
   "outputs": [
    {
     "data": {
      "text/plain": [
       "0.8758736618596833"
      ]
     },
     "execution_count": 24,
     "metadata": {},
     "output_type": "execute_result"
    }
   ],
   "source": [
    "weights = {0:1, 1:2}\n",
    "\n",
    "model = SVC(gamma='scale', class_weight=weights)\n",
    "\n",
    "model.fit(X_smote, y_smote)\n",
    "\n",
    "model.score(ct.fit_transform(X_test), y_test)"
   ]
  },
  {
   "cell_type": "code",
   "execution_count": 25,
   "metadata": {},
   "outputs": [
    {
     "data": {
      "text/plain": [
       "(array([0.96415381, 0.48831664]),\n",
       " array([0.89214996, 0.7562777 ]),\n",
       " array([0.92675542, 0.59345117]),\n",
       " array([9949, 1354], dtype=int64))"
      ]
     },
     "execution_count": 25,
     "metadata": {},
     "output_type": "execute_result"
    }
   ],
   "source": [
    "precision_recall_fscore_support(y_test, model.predict(ct.transform(X_test)))"
   ]
  },
  {
   "cell_type": "markdown",
   "metadata": {},
   "source": [
    "# Gradient Boosted Model"
   ]
  },
  {
   "cell_type": "code",
   "execution_count": 29,
   "metadata": {},
   "outputs": [
    {
     "name": "stdout",
     "output_type": "stream",
     "text": [
      "Collecting xgboost\n",
      "  Downloading xgboost-1.2.1-py3-none-win_amd64.whl (86.5 MB)\n",
      "Requirement already satisfied: scipy in c:\\users\\casey\\anaconda3\\lib\\site-packages (from xgboost) (1.5.2)\n",
      "Requirement already satisfied: numpy in c:\\users\\casey\\anaconda3\\lib\\site-packages (from xgboost) (1.19.2)\n",
      "Installing collected packages: xgboost\n",
      "Successfully installed xgboost-1.2.1\n",
      "Collecting xgboost\n",
      "  Downloading xgboost-1.2.1-py3-none-win_amd64.whl (86.5 MB)\n",
      "Requirement already satisfied: numpy in c:\\users\\casey\\anaconda3\\lib\\site-packages (from xgboost) (1.19.2)\n",
      "Requirement already satisfied: scipy in c:\\users\\casey\\anaconda3\\lib\\site-packages (from xgboost) (1.5.2)\n",
      "Installing collected packages: xgboost\n",
      "Successfully installed xgboost-1.2.1\n"
     ]
    }
   ],
   "source": [
    "!pip install xgboost"
   ]
  },
  {
   "cell_type": "code",
   "execution_count": 35,
   "metadata": {},
   "outputs": [
    {
     "data": {
      "text/plain": [
       "7.61702668360864"
      ]
     },
     "execution_count": 35,
     "metadata": {},
     "output_type": "execute_result"
    }
   ],
   "source": [
    "y_train.value_counts()[0]/y_train.value_counts()[1]"
   ]
  },
  {
   "cell_type": "code",
   "execution_count": 64,
   "metadata": {},
   "outputs": [
    {
     "data": {
      "text/plain": [
       "0.8426966292134831"
      ]
     },
     "execution_count": 64,
     "metadata": {},
     "output_type": "execute_result"
    }
   ],
   "source": [
    "from xgboost import XGBClassifier\n",
    "\n",
    "xgb = XGBClassifier(scale_pos_weight = 7.2, max_depth = 5, reg_lambda = 10, sampling_method = 'gradient_based')\n",
    "\n",
    "xgb.fit(X_smote, y_smote)\n",
    "\n",
    "xgb.score(ct.fit_transform(X_test), y_test)"
   ]
  },
  {
   "cell_type": "code",
   "execution_count": 65,
   "metadata": {},
   "outputs": [
    {
     "data": {
      "text/plain": [
       "(array([0.97699942, 0.42257122]),\n",
       " array([0.84108956, 0.85450517]),\n",
       " array([0.90396457, 0.56549365]),\n",
       " array([9949, 1354], dtype=int64))"
      ]
     },
     "execution_count": 65,
     "metadata": {},
     "output_type": "execute_result"
    }
   ],
   "source": [
    "precision_recall_fscore_support(y_test, xgb.predict(ct.transform(X_test)))"
   ]
  },
  {
   "cell_type": "code",
   "execution_count": 143,
   "metadata": {},
   "outputs": [
    {
     "name": "stdout",
     "output_type": "stream",
     "text": [
      "Threshold=0.710, F-Score=0.60128\n"
     ]
    }
   ],
   "source": [
    "from sklearn.metrics import f1_score\n",
    " \n",
    "# apply threshold to positive probabilities to create labels\n",
    "def to_labels(pos_probs, threshold):\n",
    "\treturn (pos_probs >= threshold).astype('int')\n",
    " \n",
    "# predict probabilities\n",
    "yhat = xgb.predict_proba(ct.fit_transform(X_test))\n",
    "# keep probabilities for the positive outcome only\n",
    "probs = yhat[:, 1]\n",
    "# define thresholds\n",
    "thresholds = np.arange(0, 1, 0.001)\n",
    "# evaluate each threshold\n",
    "scores = [f1_score(y_test, to_labels(probs, t)) for t in thresholds]\n",
    "# get best threshold\n",
    "ix = np.argmax(scores)\n",
    "print('Threshold=%.3f, F-Score=%.5f' % (thresholds[ix], scores[ix]))\n"
   ]
  },
  {
   "cell_type": "code",
   "execution_count": null,
   "metadata": {},
   "outputs": [],
   "source": []
  },
  {
   "cell_type": "code",
   "execution_count": 144,
   "metadata": {},
   "outputs": [
    {
     "name": "stdout",
     "output_type": "stream",
     "text": [
      "Best Threshold=0.710095, F-Score=0.601\n"
     ]
    },
    {
     "name": "stderr",
     "output_type": "stream",
     "text": [
      "<ipython-input-144-edae6f09a195>:7: RuntimeWarning: invalid value encountered in true_divide\n",
      "  fscore = (2 * precision * recall) / (precision + recall)\n"
     ]
    },
    {
     "data": {
      "image/png": "[encoded data removed]",
      "text/plain": [
       "<Figure size 432x288 with 1 Axes>"
      ]
     },
     "metadata": {
      "needs_background": "light"
     },
     "output_type": "display_data"
    }
   ],
   "source": [
    "from sklearn.metrics import precision_recall_curve\n",
    "\n",
    "yhat = yhat[:,1]\n",
    "\n",
    "precision, recall, thresholds = precision_recall_curve(y_test, yhat)\n",
    "# convert to f score\n",
    "fscore = (2 * precision * recall) / (precision + recall)\n",
    "# locate the index of the largest f score\n",
    "ix = np.argmax(fscore[0:-10])\n",
    "print('Best Threshold=%f, F-Score=%.3f' % (thresholds[ix], fscore[ix]))\n",
    "# plot the roc curve for the model\n",
    "no_skill = len(y_test[y_test==1]) / len(y_test)\n",
    "plt.plot([0,1], [no_skill,no_skill], linestyle='--', label='No Skill')\n",
    "plt.plot(recall[0:-10], precision[0:-10], marker='.', label='Logistic')\n",
    "plt.scatter(recall[ix], precision[ix], marker='o', color='black', label='Best')\n",
    "# axis labels\n",
    "plt.xlabel('Recall')\n",
    "plt.ylabel('Precision')\n",
    "plt.legend()\n",
    "# show the plot\n",
    "plt.show()"
   ]
  },
  {
   "cell_type": "code",
   "execution_count": 11,
   "metadata": {},
   "outputs": [
    {
     "data": {
      "image/png": "[encoded data removed]",
      "text/plain": [
       "<Figure size 720x360 with 1 Axes>"
      ]
     },
     "metadata": {
      "needs_background": "light"
     },
     "output_type": "display_data"
    }
   ],
   "source": [
    "plt.figure(figsize=(10,5))\n",
    "\n",
    "color=iter(cm.rainbow(np.linspace(0,1,4)))\n",
    "model_dict = {'lreg_smote':lreg_smote}\n",
    "\n",
    "for model in model_dict.keys():\n",
    "    y_score = model_dict[model].predict_proba(ct.fit_transform(X_test))\n",
    "    fpr, tpr, thresholds = roc_curve(y_test, y_score[:, 1])\n",
    "    roc_auc = auc(fpr, tpr)\n",
    "    plt.plot(fpr, tpr, lw=2, color = next(color), label=model + ': %0.4f' % roc_auc)\n",
    "    plt.plot([0, 1], [0, 1], color='navy', lw=2, linestyle='--')\n",
    "\n",
    "plt.xlim([0.0, 1.0])\n",
    "plt.ylim([0.0, 1.05])\n",
    "plt.xlabel('False Positive Rate')\n",
    "plt.ylabel('True Positive Rate')\n",
    "plt.title('ROC Curves')\n",
    "plt.legend(loc=\"lower right\")\n",
    "plt.show()"
   ]
  },
  {
   "cell_type": "code",
   "execution_count": 12,
   "metadata": {},
   "outputs": [],
   "source": [
    "def pos_class_table(model, y_true, X):\n",
    "    df = pd.DataFrame(precision_recall_fscore_support(y_true, model.predict(ct.transform(X)))).iloc[:,1]\n",
    "    return(df)"
   ]
  },
  {
   "cell_type": "code",
   "execution_count": 13,
   "metadata": {},
   "outputs": [
    {
     "data": {
      "text/html": [
       "<div>\n",
       "<style scoped>\n",
       "    .dataframe tbody tr th:only-of-type {\n",
       "        vertical-align: middle;\n",
       "    }\n",
       "\n",
       "    .dataframe tbody tr th {\n",
       "        vertical-align: top;\n",
       "    }\n",
       "\n",
       "    .dataframe thead th {\n",
       "        text-align: right;\n",
       "    }\n",
       "</style>\n",
       "<table border=\"1\" class=\"dataframe\">\n",
       "  <thead>\n",
       "    <tr style=\"text-align: right;\">\n",
       "      <th></th>\n",
       "      <th>lreg</th>\n",
       "      <th>lreg_under</th>\n",
       "      <th>lreg_over</th>\n",
       "      <th>lreg_smote</th>\n",
       "    </tr>\n",
       "  </thead>\n",
       "  <tbody>\n",
       "    <tr>\n",
       "      <th>precision</th>\n",
       "      <td>0.646067</td>\n",
       "      <td>0.382245</td>\n",
       "      <td>0.386162</td>\n",
       "      <td>0.569510</td>\n",
       "    </tr>\n",
       "    <tr>\n",
       "      <th>recall</th>\n",
       "      <td>0.339734</td>\n",
       "      <td>0.842688</td>\n",
       "      <td>0.836780</td>\n",
       "      <td>0.532496</td>\n",
       "    </tr>\n",
       "    <tr>\n",
       "      <th>f1_score</th>\n",
       "      <td>0.445305</td>\n",
       "      <td>0.525928</td>\n",
       "      <td>0.528451</td>\n",
       "      <td>0.550382</td>\n",
       "    </tr>\n",
       "    <tr>\n",
       "      <th>support</th>\n",
       "      <td>1354.000000</td>\n",
       "      <td>1354.000000</td>\n",
       "      <td>1354.000000</td>\n",
       "      <td>1354.000000</td>\n",
       "    </tr>\n",
       "  </tbody>\n",
       "</table>\n",
       "</div>"
      ],
      "text/plain": [
       "                  lreg   lreg_under    lreg_over   lreg_smote\n",
       "precision     0.646067     0.382245     0.386162     0.569510\n",
       "recall        0.339734     0.842688     0.836780     0.532496\n",
       "f1_score      0.445305     0.525928     0.528451     0.550382\n",
       "support    1354.000000  1354.000000  1354.000000  1354.000000"
      ]
     },
     "execution_count": 13,
     "metadata": {},
     "output_type": "execute_result"
    }
   ],
   "source": [
    "result_df = pd.DataFrame(data = {'lreg': pos_class_table(lreg, y_test, X_test),\n",
    "'lreg_under': pos_class_table(lreg_under, y_test, X_test),\n",
    "'lreg_over': pos_class_table(lreg_over, y_test, X_test),\n",
    "'lreg_smote': pos_class_table(lreg_smote, y_test, X_test)})\n",
    "result_df.index = ['precision','recall','f1_score','support']\n",
    "result_df"
   ]
  },
  {
   "cell_type": "code",
   "execution_count": 14,
   "metadata": {},
   "outputs": [
    {
     "data": {
      "text/html": [
       "<div>\n",
       "<style scoped>\n",
       "    .dataframe tbody tr th:only-of-type {\n",
       "        vertical-align: middle;\n",
       "    }\n",
       "\n",
       "    .dataframe tbody tr th {\n",
       "        vertical-align: top;\n",
       "    }\n",
       "\n",
       "    .dataframe thead th {\n",
       "        text-align: right;\n",
       "    }\n",
       "</style>\n",
       "<table border=\"1\" class=\"dataframe\">\n",
       "  <thead>\n",
       "    <tr style=\"text-align: right;\">\n",
       "      <th></th>\n",
       "      <th>lreg</th>\n",
       "      <th>lreg_under</th>\n",
       "      <th>lreg_over</th>\n",
       "      <th>lreg_smote</th>\n",
       "    </tr>\n",
       "  </thead>\n",
       "  <tbody>\n",
       "    <tr>\n",
       "      <th>accuracy</th>\n",
       "      <td>0.898611</td>\n",
       "      <td>0.818013</td>\n",
       "      <td>0.821109</td>\n",
       "      <td>0.89578</td>\n",
       "    </tr>\n",
       "  </tbody>\n",
       "</table>\n",
       "</div>"
      ],
      "text/plain": [
       "              lreg  lreg_under  lreg_over  lreg_smote\n",
       "accuracy  0.898611    0.818013   0.821109     0.89578"
      ]
     },
     "execution_count": 14,
     "metadata": {},
     "output_type": "execute_result"
    }
   ],
   "source": [
    "acc_df = pd.DataFrame(data = {'lreg': lreg.score(ct.transform(X_test), y_test),\n",
    "'lreg_under': lreg_under.score(ct.transform(X_test), y_test),\n",
    "'lreg_over': lreg_over.score(ct.transform(X_test), y_test),\n",
    "'lreg_smote': lreg_smote.score(ct.transform(X_test), y_test)},index = ['accuracy'])\n",
    "acc_df"
   ]
  },
  {
   "cell_type": "code",
   "execution_count": 15,
   "metadata": {},
   "outputs": [
    {
     "name": "stdout",
     "output_type": "stream",
     "text": [
      "Ratio of positive class: 0.12\n",
      "Ratio of predicted positive class: 0.18\n"
     ]
    }
   ],
   "source": [
    "print('Ratio of positive class: ' + str(np.round(y_test.value_counts()[1]/len(y_test),2)))\n",
    "prediction_counts = pd.Series(lreg_smote.predict(X_smote)).value_counts()\n",
    "print('Ratio of predicted positive class: ' + str(np.round(prediction_counts[1]/prediction_counts[0],2)))"
   ]
  },
  {
   "cell_type": "markdown",
   "metadata": {},
   "source": [
    "**Notes**\n",
    "\n",
    "A sampling strategy using SMOTE with a ratio of 1 positive class labels to 4 negative class labels looks like a good strategy. That would give a good balance of classification metrics. Compared to creating balanced classes, we can see that fitting a Logistic Regression model on balanced classes did not give us the metrics we wanted for precision, but did better for recall. Depending on what we want from the model, we can pick either the SMOTE approach or the oversampling approach."
   ]
  },
  {
   "cell_type": "markdown",
   "metadata": {},
   "source": [
    "# END"
   ]
  }
 ],
 "metadata": {
  "kernelspec": {
   "display_name": "Python 3",
   "language": "python",
   "name": "python3"
  },
  "language_info": {
   "codemirror_mode": {
    "name": "ipython",
    "version": 3
   },
   "file_extension": ".py",
   "mimetype": "text/x-python",
   "name": "python",
   "nbconvert_exporter": "python",
   "pygments_lexer": "ipython3",
   "version": "3.8.5"
  }
 },
 "nbformat": 4,
 "nbformat_minor": 4
}
